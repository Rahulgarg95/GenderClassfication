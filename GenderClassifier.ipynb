{
 "cells": [
  {
   "cell_type": "code",
   "execution_count": 1,
   "metadata": {},
   "outputs": [],
   "source": [
    "from sklearn import tree\n",
    "from sklearn.svm import SVC\n",
    "from sklearn.linear_model import Perceptron\n",
    "from sklearn.neighbors import KNeighborsClassifier\n",
    "from sklearn.metrics import accuracy_score\n",
    "from sklearn.naive_bayes import GaussianNB\n",
    "import numpy as np"
   ]
  },
  {
   "cell_type": "code",
   "execution_count": 2,
   "metadata": {},
   "outputs": [],
   "source": [
    "# Data and labels\n",
    "X = [[181, 80, 44], [177, 70, 43], [160, 60, 38], [154, 54, 37], [166, 65, 40], [190, 90, 47], [175, 64, 39],\n",
    "     [177, 70, 40], [159, 55, 37], [171, 75, 42], [181, 85, 43]]\n",
    "\n",
    "Y = ['male', 'male', 'female', 'female', 'male', 'male', 'female', 'female', 'female', 'male', 'male']"
   ]
  },
  {
   "cell_type": "code",
   "execution_count": 3,
   "metadata": {},
   "outputs": [],
   "source": [
    "clf = tree.DecisionTreeClassifier()\n",
    "clf1 = SVC()\n",
    "clf2 = Perceptron()\n",
    "clf3 = KNeighborsClassifier()\n",
    "clf4 = GaussianNB()"
   ]
  },
  {
   "cell_type": "code",
   "execution_count": 4,
   "metadata": {},
   "outputs": [
    {
     "name": "stderr",
     "output_type": "stream",
     "text": [
      "C:\\Users\\garahul\\AppData\\Local\\Continuum\\anaconda2\\lib\\site-packages\\sklearn\\linear_model\\stochastic_gradient.py:128: FutureWarning: max_iter and tol parameters have been added in <class 'sklearn.linear_model.perceptron.Perceptron'> in 0.19. If both are left unset, they default to max_iter=5 and tol=None. If tol is not None, max_iter defaults to max_iter=1000. From 0.21, default max_iter will be 1000, and default tol will be 1e-3.\n",
      "  \"and default tol will be 1e-3.\" % type(self), FutureWarning)\n"
     ]
    },
    {
     "data": {
      "text/plain": [
       "GaussianNB(priors=None)"
      ]
     },
     "execution_count": 4,
     "metadata": {},
     "output_type": "execute_result"
    }
   ],
   "source": [
    "clf.fit(X,Y)\n",
    "clf1.fit(X,Y)\n",
    "clf2.fit(X,Y)\n",
    "clf3.fit(X,Y)\n",
    "clf4.fit(X,Y)"
   ]
  },
  {
   "cell_type": "code",
   "execution_count": 5,
   "metadata": {},
   "outputs": [
    {
     "name": "stdout",
     "output_type": "stream",
     "text": [
      "Accuracy for DecisionTree: 100.0\n"
     ]
    }
   ],
   "source": [
    "pred_tree = clf.predict(X)\n",
    "acc_tree = accuracy_score(Y,pred_tree) * 100\n",
    "print 'Accuracy for DecisionTree: {}'.format(acc_tree)"
   ]
  },
  {
   "cell_type": "code",
   "execution_count": 12,
   "metadata": {},
   "outputs": [
    {
     "name": "stdout",
     "output_type": "stream",
     "text": [
      "Accuracy for SVC: 100.0\n"
     ]
    }
   ],
   "source": [
    "pred_svc = clf1.predict(X)\n",
    "acc_svc = accuracy_score(Y,pred_svc) * 100\n",
    "print 'Accuracy for SVC: {}'.format(acc_svc)"
   ]
  },
  {
   "cell_type": "code",
   "execution_count": 13,
   "metadata": {},
   "outputs": [
    {
     "name": "stdout",
     "output_type": "stream",
     "text": [
      "Accuracy for Perceptron: 54.5454545455\n"
     ]
    }
   ],
   "source": [
    "pred_perc = clf2.predict(X)\n",
    "acc_perc = accuracy_score(Y,pred_perc) * 100\n",
    "print 'Accuracy for Perceptron: {}'.format(acc_perc)"
   ]
  },
  {
   "cell_type": "code",
   "execution_count": 14,
   "metadata": {},
   "outputs": [
    {
     "name": "stdout",
     "output_type": "stream",
     "text": [
      "Accuracy for KNeighborsClassifier: 72.7272727273\n"
     ]
    }
   ],
   "source": [
    "pred_neigh = clf3.predict(X)\n",
    "acc_neigh = accuracy_score(Y,pred_neigh) * 100\n",
    "print 'Accuracy for KNeighborsClassifier: {}'.format(acc_neigh)"
   ]
  },
  {
   "cell_type": "code",
   "execution_count": 15,
   "metadata": {},
   "outputs": [
    {
     "name": "stdout",
     "output_type": "stream",
     "text": [
      "Accuracy for GaussianNB: 81.8181818182\n"
     ]
    }
   ],
   "source": [
    "pred_gaus = clf4.predict(X)\n",
    "acc_gaus = accuracy_score(Y,pred_gaus) * 100\n",
    "print 'Accuracy for GaussianNB: {}'.format(acc_gaus)"
   ]
  },
  {
   "cell_type": "code",
   "execution_count": 17,
   "metadata": {},
   "outputs": [
    {
     "name": "stdout",
     "output_type": "stream",
     "text": [
      "Best gender classifier is SVM\n"
     ]
    }
   ],
   "source": [
    "maxval = np.argmax([acc_tree,acc_svc,acc_perc,acc_neigh,acc_gaus])\n",
    "classifiers = {0: 'SVM', 1: 'Perceptron', 2: 'KNN', 3: 'GaussianNB'}\n",
    "print('Best gender classifier is {}'.format(classifiers[maxval]))"
   ]
  },
  {
   "cell_type": "code",
   "execution_count": null,
   "metadata": {},
   "outputs": [],
   "source": []
  }
 ],
 "metadata": {
  "kernelspec": {
   "display_name": "Python 2",
   "language": "python",
   "name": "python2"
  },
  "language_info": {
   "codemirror_mode": {
    "name": "ipython",
    "version": 2
   },
   "file_extension": ".py",
   "mimetype": "text/x-python",
   "name": "python",
   "nbconvert_exporter": "python",
   "pygments_lexer": "ipython2",
   "version": "2.7.14"
  }
 },
 "nbformat": 4,
 "nbformat_minor": 2
}
